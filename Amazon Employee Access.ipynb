{
 "cells": [
  {
   "cell_type": "markdown",
   "id": "e6efd48b",
   "metadata": {},
   "source": [
    "### Dataset Description"
   ]
  },
  {
   "cell_type": "markdown",
   "id": "461567cd",
   "metadata": {},
   "source": [
    "The data comes from Amazon Inc. collected from 2010-2011 (published on Kaggle platform). The training set consists of 32769 samples and the testing one of 58922 samples. The training set has one label attribute named “ACTION”, whose value “1” indicates an application is approved whereas “0” indicates rejection. As predictors of this state, there are eight features, indicating characteristics of the required resource anf the role and work group of the employee at Amazon requesting access.\n",
    "\n",
    "**train.csv** - The training set. Each row has the ACTION (ground truth), RESOURCE, and information about the employee's role at the time of approval\n",
    "\n",
    "**test.csv** - The test set for which predictions should be made. Each row asks whether an employee having the listed characteristics should have access to the listed resource."
   ]
  },
  {
   "cell_type": "code",
   "execution_count": 1,
   "id": "c9299f23",
   "metadata": {},
   "outputs": [],
   "source": [
    "import numpy as np\n",
    "import pandas as pd\n",
    "import matplotlib.pyplot as plt\n",
    "import seaborn as sns\n",
    "sns.set()"
   ]
  },
  {
   "cell_type": "code",
   "execution_count": 2,
   "id": "a3358c00",
   "metadata": {},
   "outputs": [
    {
     "data": {
      "text/html": [
       "<div>\n",
       "<style scoped>\n",
       "    .dataframe tbody tr th:only-of-type {\n",
       "        vertical-align: middle;\n",
       "    }\n",
       "\n",
       "    .dataframe tbody tr th {\n",
       "        vertical-align: top;\n",
       "    }\n",
       "\n",
       "    .dataframe thead th {\n",
       "        text-align: right;\n",
       "    }\n",
       "</style>\n",
       "<table border=\"1\" class=\"dataframe\">\n",
       "  <thead>\n",
       "    <tr style=\"text-align: right;\">\n",
       "      <th></th>\n",
       "      <th>ACTION</th>\n",
       "      <th>RESOURCE</th>\n",
       "      <th>MGR_ID</th>\n",
       "      <th>ROLE_ROLLUP_1</th>\n",
       "      <th>ROLE_ROLLUP_2</th>\n",
       "      <th>ROLE_DEPTNAME</th>\n",
       "      <th>ROLE_TITLE</th>\n",
       "      <th>ROLE_FAMILY_DESC</th>\n",
       "      <th>ROLE_FAMILY</th>\n",
       "      <th>ROLE_CODE</th>\n",
       "    </tr>\n",
       "  </thead>\n",
       "  <tbody>\n",
       "    <tr>\n",
       "      <th>0</th>\n",
       "      <td>1</td>\n",
       "      <td>39353</td>\n",
       "      <td>85475</td>\n",
       "      <td>117961</td>\n",
       "      <td>118300</td>\n",
       "      <td>123472</td>\n",
       "      <td>117905</td>\n",
       "      <td>117906</td>\n",
       "      <td>290919</td>\n",
       "      <td>117908</td>\n",
       "    </tr>\n",
       "    <tr>\n",
       "      <th>1</th>\n",
       "      <td>1</td>\n",
       "      <td>17183</td>\n",
       "      <td>1540</td>\n",
       "      <td>117961</td>\n",
       "      <td>118343</td>\n",
       "      <td>123125</td>\n",
       "      <td>118536</td>\n",
       "      <td>118536</td>\n",
       "      <td>308574</td>\n",
       "      <td>118539</td>\n",
       "    </tr>\n",
       "    <tr>\n",
       "      <th>2</th>\n",
       "      <td>1</td>\n",
       "      <td>36724</td>\n",
       "      <td>14457</td>\n",
       "      <td>118219</td>\n",
       "      <td>118220</td>\n",
       "      <td>117884</td>\n",
       "      <td>117879</td>\n",
       "      <td>267952</td>\n",
       "      <td>19721</td>\n",
       "      <td>117880</td>\n",
       "    </tr>\n",
       "    <tr>\n",
       "      <th>3</th>\n",
       "      <td>1</td>\n",
       "      <td>36135</td>\n",
       "      <td>5396</td>\n",
       "      <td>117961</td>\n",
       "      <td>118343</td>\n",
       "      <td>119993</td>\n",
       "      <td>118321</td>\n",
       "      <td>240983</td>\n",
       "      <td>290919</td>\n",
       "      <td>118322</td>\n",
       "    </tr>\n",
       "    <tr>\n",
       "      <th>4</th>\n",
       "      <td>1</td>\n",
       "      <td>42680</td>\n",
       "      <td>5905</td>\n",
       "      <td>117929</td>\n",
       "      <td>117930</td>\n",
       "      <td>119569</td>\n",
       "      <td>119323</td>\n",
       "      <td>123932</td>\n",
       "      <td>19793</td>\n",
       "      <td>119325</td>\n",
       "    </tr>\n",
       "  </tbody>\n",
       "</table>\n",
       "</div>"
      ],
      "text/plain": [
       "   ACTION  RESOURCE  MGR_ID  ROLE_ROLLUP_1  ROLE_ROLLUP_2  ROLE_DEPTNAME  \\\n",
       "0       1     39353   85475         117961         118300         123472   \n",
       "1       1     17183    1540         117961         118343         123125   \n",
       "2       1     36724   14457         118219         118220         117884   \n",
       "3       1     36135    5396         117961         118343         119993   \n",
       "4       1     42680    5905         117929         117930         119569   \n",
       "\n",
       "   ROLE_TITLE  ROLE_FAMILY_DESC  ROLE_FAMILY  ROLE_CODE  \n",
       "0      117905            117906       290919     117908  \n",
       "1      118536            118536       308574     118539  \n",
       "2      117879            267952        19721     117880  \n",
       "3      118321            240983       290919     118322  \n",
       "4      119323            123932        19793     119325  "
      ]
     },
     "execution_count": 2,
     "metadata": {},
     "output_type": "execute_result"
    }
   ],
   "source": [
    "train = pd.read_csv(\"train.csv\")\n",
    "test = pd.read_csv(\"test.csv\")\n",
    "\n",
    "train.head()"
   ]
  },
  {
   "cell_type": "code",
   "execution_count": 3,
   "id": "c3452ff1",
   "metadata": {},
   "outputs": [
    {
     "data": {
      "text/plain": [
       "ACTION              int64\n",
       "RESOURCE            int64\n",
       "MGR_ID              int64\n",
       "ROLE_ROLLUP_1       int64\n",
       "ROLE_ROLLUP_2       int64\n",
       "ROLE_DEPTNAME       int64\n",
       "ROLE_TITLE          int64\n",
       "ROLE_FAMILY_DESC    int64\n",
       "ROLE_FAMILY         int64\n",
       "ROLE_CODE           int64\n",
       "dtype: object"
      ]
     },
     "execution_count": 3,
     "metadata": {},
     "output_type": "execute_result"
    }
   ],
   "source": [
    "train.dtypes"
   ]
  },
  {
   "attachments": {
    "download%20%282%29.png": {
     "image/png": "[encoded data removed]"
    }
   },
   "cell_type": "markdown",
   "id": "561f22fb",
   "metadata": {},
   "source": [
    "![download%20%282%29.png](attachment:download%20%282%29.png)"
   ]
  },
  {
   "cell_type": "code",
   "execution_count": 4,
   "id": "0e66e3e6",
   "metadata": {},
   "outputs": [
    {
     "data": {
      "text/plain": [
       "ACTION               int64\n",
       "RESOURCE            object\n",
       "MGR_ID              object\n",
       "ROLE_ROLLUP_1       object\n",
       "ROLE_ROLLUP_2       object\n",
       "ROLE_DEPTNAME       object\n",
       "ROLE_TITLE          object\n",
       "ROLE_FAMILY_DESC    object\n",
       "ROLE_FAMILY         object\n",
       "ROLE_CODE           object\n",
       "dtype: object"
      ]
     },
     "execution_count": 4,
     "metadata": {},
     "output_type": "execute_result"
    }
   ],
   "source": [
    "# Convert all features'type to object, except \"Action\"\n",
    "train_o = train.copy()\n",
    "\n",
    "# Categorical features\n",
    "cat_features = list(train_o.columns[1:])\n",
    "train_o[cat_features] = train_o[cat_features].astype(str)\n",
    "train_o.dtypes"
   ]
  },
  {
   "cell_type": "code",
   "execution_count": 5,
   "id": "b5cfe30a",
   "metadata": {},
   "outputs": [
    {
     "data": {
      "text/html": [
       "<div>\n",
       "<style scoped>\n",
       "    .dataframe tbody tr th:only-of-type {\n",
       "        vertical-align: middle;\n",
       "    }\n",
       "\n",
       "    .dataframe tbody tr th {\n",
       "        vertical-align: top;\n",
       "    }\n",
       "\n",
       "    .dataframe thead th {\n",
       "        text-align: right;\n",
       "    }\n",
       "</style>\n",
       "<table border=\"1\" class=\"dataframe\">\n",
       "  <thead>\n",
       "    <tr style=\"text-align: right;\">\n",
       "      <th></th>\n",
       "      <th>RESOURCE</th>\n",
       "      <th>MGR_ID</th>\n",
       "      <th>ROLE_ROLLUP_1</th>\n",
       "      <th>ROLE_ROLLUP_2</th>\n",
       "      <th>ROLE_DEPTNAME</th>\n",
       "      <th>ROLE_TITLE</th>\n",
       "      <th>ROLE_FAMILY_DESC</th>\n",
       "      <th>ROLE_FAMILY</th>\n",
       "      <th>ROLE_CODE</th>\n",
       "    </tr>\n",
       "  </thead>\n",
       "  <tbody>\n",
       "    <tr>\n",
       "      <th>count</th>\n",
       "      <td>32769</td>\n",
       "      <td>32769</td>\n",
       "      <td>32769</td>\n",
       "      <td>32769</td>\n",
       "      <td>32769</td>\n",
       "      <td>32769</td>\n",
       "      <td>32769</td>\n",
       "      <td>32769</td>\n",
       "      <td>32769</td>\n",
       "    </tr>\n",
       "    <tr>\n",
       "      <th>unique</th>\n",
       "      <td>7518</td>\n",
       "      <td>4243</td>\n",
       "      <td>128</td>\n",
       "      <td>177</td>\n",
       "      <td>449</td>\n",
       "      <td>343</td>\n",
       "      <td>2358</td>\n",
       "      <td>67</td>\n",
       "      <td>343</td>\n",
       "    </tr>\n",
       "    <tr>\n",
       "      <th>top</th>\n",
       "      <td>4675</td>\n",
       "      <td>770</td>\n",
       "      <td>117961</td>\n",
       "      <td>118300</td>\n",
       "      <td>117878</td>\n",
       "      <td>118321</td>\n",
       "      <td>117906</td>\n",
       "      <td>290919</td>\n",
       "      <td>118322</td>\n",
       "    </tr>\n",
       "    <tr>\n",
       "      <th>freq</th>\n",
       "      <td>839</td>\n",
       "      <td>152</td>\n",
       "      <td>21407</td>\n",
       "      <td>4424</td>\n",
       "      <td>1135</td>\n",
       "      <td>4649</td>\n",
       "      <td>6896</td>\n",
       "      <td>10980</td>\n",
       "      <td>4649</td>\n",
       "    </tr>\n",
       "  </tbody>\n",
       "</table>\n",
       "</div>"
      ],
      "text/plain": [
       "       RESOURCE MGR_ID ROLE_ROLLUP_1 ROLE_ROLLUP_2 ROLE_DEPTNAME ROLE_TITLE  \\\n",
       "count     32769  32769         32769         32769         32769      32769   \n",
       "unique     7518   4243           128           177           449        343   \n",
       "top        4675    770        117961        118300        117878     118321   \n",
       "freq        839    152         21407          4424          1135       4649   \n",
       "\n",
       "       ROLE_FAMILY_DESC ROLE_FAMILY ROLE_CODE  \n",
       "count             32769       32769     32769  \n",
       "unique             2358          67       343  \n",
       "top              117906      290919    118322  \n",
       "freq               6896       10980      4649  "
      ]
     },
     "execution_count": 5,
     "metadata": {},
     "output_type": "execute_result"
    }
   ],
   "source": [
    "train_o.describe(include=\"O\")"
   ]
  },
  {
   "cell_type": "markdown",
   "id": "864e69f2",
   "metadata": {},
   "source": [
    "Naturally, one-hot encoding can be used to solve non-order categorical data. **Since many unique values for each column, one-hot encoding can cause \"curse of dimensionality\"**. Therefore, we need a technique to prevent this problem."
   ]
  },
  {
   "cell_type": "code",
   "execution_count": 6,
   "id": "23e3b2ca",
   "metadata": {},
   "outputs": [
    {
     "data": {
      "text/plain": [
       "id                   int64\n",
       "RESOURCE            object\n",
       "MGR_ID              object\n",
       "ROLE_ROLLUP_1       object\n",
       "ROLE_ROLLUP_2       object\n",
       "ROLE_DEPTNAME       object\n",
       "ROLE_TITLE          object\n",
       "ROLE_FAMILY_DESC    object\n",
       "ROLE_FAMILY         object\n",
       "ROLE_CODE           object\n",
       "dtype: object"
      ]
     },
     "execution_count": 6,
     "metadata": {},
     "output_type": "execute_result"
    }
   ],
   "source": [
    "# Convert all features'type to object, except \"Action\"\n",
    "test_o = test.copy()\n",
    "\n",
    "# Categorical features\n",
    "cat_features = list(test_o.columns[1:])\n",
    "test_o[cat_features] = test_o[cat_features].astype(str)\n",
    "test_o.dtypes"
   ]
  },
  {
   "cell_type": "code",
   "execution_count": 7,
   "id": "1c6824ef",
   "metadata": {},
   "outputs": [
    {
     "data": {
      "text/html": [
       "<div>\n",
       "<style scoped>\n",
       "    .dataframe tbody tr th:only-of-type {\n",
       "        vertical-align: middle;\n",
       "    }\n",
       "\n",
       "    .dataframe tbody tr th {\n",
       "        vertical-align: top;\n",
       "    }\n",
       "\n",
       "    .dataframe thead th {\n",
       "        text-align: right;\n",
       "    }\n",
       "</style>\n",
       "<table border=\"1\" class=\"dataframe\">\n",
       "  <thead>\n",
       "    <tr style=\"text-align: right;\">\n",
       "      <th></th>\n",
       "      <th>RESOURCE</th>\n",
       "      <th>MGR_ID</th>\n",
       "      <th>ROLE_ROLLUP_1</th>\n",
       "      <th>ROLE_ROLLUP_2</th>\n",
       "      <th>ROLE_DEPTNAME</th>\n",
       "      <th>ROLE_TITLE</th>\n",
       "      <th>ROLE_FAMILY_DESC</th>\n",
       "      <th>ROLE_FAMILY</th>\n",
       "      <th>ROLE_CODE</th>\n",
       "    </tr>\n",
       "  </thead>\n",
       "  <tbody>\n",
       "    <tr>\n",
       "      <th>count</th>\n",
       "      <td>58921</td>\n",
       "      <td>58921</td>\n",
       "      <td>58921</td>\n",
       "      <td>58921</td>\n",
       "      <td>58921</td>\n",
       "      <td>58921</td>\n",
       "      <td>58921</td>\n",
       "      <td>58921</td>\n",
       "      <td>58921</td>\n",
       "    </tr>\n",
       "    <tr>\n",
       "      <th>unique</th>\n",
       "      <td>4971</td>\n",
       "      <td>4689</td>\n",
       "      <td>126</td>\n",
       "      <td>177</td>\n",
       "      <td>466</td>\n",
       "      <td>351</td>\n",
       "      <td>2749</td>\n",
       "      <td>68</td>\n",
       "      <td>351</td>\n",
       "    </tr>\n",
       "    <tr>\n",
       "      <th>top</th>\n",
       "      <td>4675</td>\n",
       "      <td>770</td>\n",
       "      <td>117961</td>\n",
       "      <td>118300</td>\n",
       "      <td>117878</td>\n",
       "      <td>118321</td>\n",
       "      <td>117906</td>\n",
       "      <td>290919</td>\n",
       "      <td>118322</td>\n",
       "    </tr>\n",
       "    <tr>\n",
       "      <th>freq</th>\n",
       "      <td>1989</td>\n",
       "      <td>276</td>\n",
       "      <td>37658</td>\n",
       "      <td>7731</td>\n",
       "      <td>2261</td>\n",
       "      <td>7433</td>\n",
       "      <td>11100</td>\n",
       "      <td>17881</td>\n",
       "      <td>7433</td>\n",
       "    </tr>\n",
       "  </tbody>\n",
       "</table>\n",
       "</div>"
      ],
      "text/plain": [
       "       RESOURCE MGR_ID ROLE_ROLLUP_1 ROLE_ROLLUP_2 ROLE_DEPTNAME ROLE_TITLE  \\\n",
       "count     58921  58921         58921         58921         58921      58921   \n",
       "unique     4971   4689           126           177           466        351   \n",
       "top        4675    770        117961        118300        117878     118321   \n",
       "freq       1989    276         37658          7731          2261       7433   \n",
       "\n",
       "       ROLE_FAMILY_DESC ROLE_FAMILY ROLE_CODE  \n",
       "count             58921       58921     58921  \n",
       "unique             2749          68       351  \n",
       "top              117906      290919    118322  \n",
       "freq              11100       17881      7433  "
      ]
     },
     "execution_count": 7,
     "metadata": {},
     "output_type": "execute_result"
    }
   ],
   "source": [
    "test_o.describe(include=\"O\")"
   ]
  },
  {
   "cell_type": "code",
   "execution_count": 8,
   "id": "67c4ffee",
   "metadata": {},
   "outputs": [
    {
     "name": "stdout",
     "output_type": "stream",
     "text": [
      "Shape of train data: (32769, 10)\n",
      "Shape of test data: (58921, 10)\n"
     ]
    }
   ],
   "source": [
    "print(f\"Shape of train data: {train.shape}\")\n",
    "print(f\"Shape of test data: {test.shape}\")"
   ]
  },
  {
   "cell_type": "code",
   "execution_count": 9,
   "id": "71c93f53",
   "metadata": {},
   "outputs": [
    {
     "data": {
      "text/plain": [
       "ACTION              0\n",
       "RESOURCE            0\n",
       "MGR_ID              0\n",
       "ROLE_ROLLUP_1       0\n",
       "ROLE_ROLLUP_2       0\n",
       "ROLE_DEPTNAME       0\n",
       "ROLE_TITLE          0\n",
       "ROLE_FAMILY_DESC    0\n",
       "ROLE_FAMILY         0\n",
       "ROLE_CODE           0\n",
       "dtype: int64"
      ]
     },
     "execution_count": 9,
     "metadata": {},
     "output_type": "execute_result"
    }
   ],
   "source": [
    "train_o.isnull().sum()"
   ]
  },
  {
   "cell_type": "code",
   "execution_count": 10,
   "id": "774ad6d2",
   "metadata": {},
   "outputs": [
    {
     "data": {
      "text/plain": [
       "id                  0\n",
       "RESOURCE            0\n",
       "MGR_ID              0\n",
       "ROLE_ROLLUP_1       0\n",
       "ROLE_ROLLUP_2       0\n",
       "ROLE_DEPTNAME       0\n",
       "ROLE_TITLE          0\n",
       "ROLE_FAMILY_DESC    0\n",
       "ROLE_FAMILY         0\n",
       "ROLE_CODE           0\n",
       "dtype: int64"
      ]
     },
     "execution_count": 10,
     "metadata": {},
     "output_type": "execute_result"
    }
   ],
   "source": [
    "test_o.isnull().sum()"
   ]
  },
  {
   "cell_type": "markdown",
   "id": "88d57c3d",
   "metadata": {},
   "source": [
    "There is no missing value in both data"
   ]
  },
  {
   "cell_type": "markdown",
   "id": "5a449ccd",
   "metadata": {},
   "source": [
    "### Data Exploration"
   ]
  },
  {
   "cell_type": "code",
   "execution_count": 11,
   "id": "39982930",
   "metadata": {},
   "outputs": [
    {
     "data": {
      "image/png": "[encoded data removed]",
      "text/plain": [
       "<Figure size 720x1008 with 10 Axes>"
      ]
     },
     "metadata": {},
     "output_type": "display_data"
    }
   ],
   "source": [
    "train.hist(bins=30, figsize=(10, 14), layout=(5, 2))\n",
    "plt.tight_layout()\n",
    "plt.show()"
   ]
  },
  {
   "cell_type": "markdown",
   "id": "368c1fc1",
   "metadata": {},
   "source": [
    "Most of **Resources and Managers** are concentrated on **ID which is less than 50000**."
   ]
  },
  {
   "cell_type": "code",
   "execution_count": 12,
   "id": "0fdce8e7",
   "metadata": {
    "scrolled": false
   },
   "outputs": [
    {
     "data": {
      "text/plain": [
       "<AxesSubplot:>"
      ]
     },
     "execution_count": 12,
     "metadata": {},
     "output_type": "execute_result"
    },
    {
     "data": {
      "image/png": "[encoded data removed]",
      "text/plain": [
       "<Figure size 720x576 with 1 Axes>"
      ]
     },
     "metadata": {},
     "output_type": "display_data"
    }
   ],
   "source": [
    "# See a distribution of considered features\n",
    "considered_cols = [\"RESOURCE\", \"MGR_ID\", \"ROLE_FAMILY_DESC\"]\n",
    "train[considered_cols].boxplot(figsize=(10, 8))"
   ]
  },
  {
   "cell_type": "markdown",
   "id": "14521b78",
   "metadata": {},
   "source": [
    "It seems that \"Resource\" and \"MGR_ID\" are highly-correlated. In logical way, **outlying \"Resource\" means significant and confidential resources, while outlying \"MGR_ID\" means higher job position in company**. \n",
    "\n",
    "Then, **only most of higher employee can work on confidential resources**."
   ]
  },
  {
   "cell_type": "code",
   "execution_count": 13,
   "id": "b65e978d",
   "metadata": {},
   "outputs": [
    {
     "data": {
      "text/plain": [
       "1    30872\n",
       "0     1897\n",
       "Name: ACTION, dtype: int64"
      ]
     },
     "execution_count": 13,
     "metadata": {},
     "output_type": "execute_result"
    }
   ],
   "source": [
    "train_o[\"ACTION\"].value_counts()"
   ]
  },
  {
   "cell_type": "code",
   "execution_count": 14,
   "id": "17ca1f50",
   "metadata": {},
   "outputs": [
    {
     "data": {
      "image/png": "[encoded data removed]",
      "text/plain": [
       "<Figure size 432x576 with 1 Axes>"
      ]
     },
     "metadata": {},
     "output_type": "display_data"
    }
   ],
   "source": [
    "counts_data = train_o[\"ACTION\"].value_counts()\n",
    "labels = [\"Approved\", \"Denied\"]\n",
    "colors = [\"lime\", \"red\"]\n",
    "\n",
    "plt.figure(figsize=(6, 8))\n",
    "plt.pie(counts_data, explode=(0.1, 0), labels=labels, colors=colors, autopct='%.2f%%')\n",
    "plt.show()"
   ]
  },
  {
   "cell_type": "markdown",
   "id": "ef26e67c",
   "metadata": {},
   "source": [
    "This machine learning problem meets another problem, **class imbalance**."
   ]
  },
  {
   "cell_type": "markdown",
   "id": "2b0a4cd3",
   "metadata": {},
   "source": [
    "### Model Building (1)"
   ]
  },
  {
   "cell_type": "code",
   "execution_count": 15,
   "id": "967ed501",
   "metadata": {},
   "outputs": [],
   "source": [
    "from sklearn.model_selection import train_test_split\n",
    "X = train.drop(\"ACTION\", axis=1)\n",
    "Y = train[\"ACTION\"]\n",
    "\n",
    "X_train, X_valid, Y_train, Y_valid = train_test_split(X, Y, test_size=.2, random_state=42)"
   ]
  },
  {
   "cell_type": "code",
   "execution_count": 16,
   "id": "663849d3",
   "metadata": {},
   "outputs": [
    {
     "name": "stdout",
     "output_type": "stream",
     "text": [
      "Learning rate set to 0.095993\n",
      "0:\tlearn: 0.9417128\ttest: 0.9436985\tbest: 0.9436985 (0)\ttotal: 149ms\tremaining: 1m 14s\n",
      "200:\tlearn: 0.9470532\ttest: 0.9453769\tbest: 0.9453769 (192)\ttotal: 2.65s\tremaining: 3.94s\n",
      "400:\tlearn: 0.9552546\ttest: 0.9481233\tbest: 0.9485810 (388)\ttotal: 4.98s\tremaining: 1.23s\n",
      "499:\tlearn: 0.9575434\ttest: 0.9494965\tbest: 0.9494965 (498)\ttotal: 6.18s\tremaining: 0us\n",
      "\n",
      "bestTest = 0.9494964907\n",
      "bestIteration = 498\n",
      "\n",
      "Shrink model to first 499 iterations.\n"
     ]
    },
    {
     "data": {
      "text/plain": [
       "<catboost.core.CatBoostClassifier at 0x1cd02305910>"
      ]
     },
     "execution_count": 16,
     "metadata": {},
     "output_type": "execute_result"
    }
   ],
   "source": [
    "from catboost import CatBoostClassifier\n",
    "\n",
    "# Without cat_features\n",
    "cbc_wo_cat = CatBoostClassifier(loss_function=\"Logloss\", eval_metric=\"Accuracy\", random_seed=1, verbose=200, n_estimators=500)\n",
    "cbc_wo_cat.fit(X_train, Y_train,\n",
    "        eval_set=(X_valid, Y_valid),\n",
    "        use_best_model=True\n",
    "       )"
   ]
  },
  {
   "cell_type": "markdown",
   "id": "49c8398e",
   "metadata": {},
   "source": [
    "### Model Building (2)"
   ]
  },
  {
   "cell_type": "code",
   "execution_count": 17,
   "id": "8cde372a",
   "metadata": {},
   "outputs": [],
   "source": [
    "X = train_o.drop(\"ACTION\", axis=1)\n",
    "Y = train_o[\"ACTION\"]\n",
    "\n",
    "X_train, X_valid, Y_train, Y_valid = train_test_split(X, Y, test_size=.2, random_state=42)"
   ]
  },
  {
   "cell_type": "code",
   "execution_count": 18,
   "id": "d6696984",
   "metadata": {},
   "outputs": [
    {
     "data": {
      "text/plain": [
       "['RESOURCE',\n",
       " 'MGR_ID',\n",
       " 'ROLE_ROLLUP_1',\n",
       " 'ROLE_ROLLUP_2',\n",
       " 'ROLE_DEPTNAME',\n",
       " 'ROLE_TITLE',\n",
       " 'ROLE_FAMILY_DESC',\n",
       " 'ROLE_FAMILY',\n",
       " 'ROLE_CODE']"
      ]
     },
     "execution_count": 18,
     "metadata": {},
     "output_type": "execute_result"
    }
   ],
   "source": [
    "cat_features"
   ]
  },
  {
   "cell_type": "code",
   "execution_count": 19,
   "id": "47f41aa2",
   "metadata": {},
   "outputs": [
    {
     "name": "stdout",
     "output_type": "stream",
     "text": [
      "Learning rate set to 0.095993\n",
      "0:\tlearn: 0.9417128\ttest: 0.9436985\tbest: 0.9436985 (0)\ttotal: 57.9ms\tremaining: 28.9s\n",
      "200:\tlearn: 0.9589167\ttest: 0.9572780\tbest: 0.9572780 (186)\ttotal: 19.6s\tremaining: 29.2s\n",
      "400:\tlearn: 0.9625787\ttest: 0.9569728\tbest: 0.9578883 (269)\ttotal: 40.2s\tremaining: 9.94s\n",
      "499:\tlearn: 0.9639519\ttest: 0.9574306\tbest: 0.9578883 (269)\ttotal: 51.7s\tremaining: 0us\n",
      "\n",
      "bestTest = 0.9578883125\n",
      "bestIteration = 269\n",
      "\n",
      "Shrink model to first 270 iterations.\n"
     ]
    },
    {
     "data": {
      "text/plain": [
       "<catboost.core.CatBoostClassifier at 0x1cd0592ce20>"
      ]
     },
     "execution_count": 19,
     "metadata": {},
     "output_type": "execute_result"
    }
   ],
   "source": [
    "# With cat_features\n",
    "cbc = CatBoostClassifier(loss_function=\"Logloss\", \n",
    "                         eval_metric=\"Accuracy\", \n",
    "                         random_seed=1, \n",
    "                         verbose=200, \n",
    "                         n_estimators=500, \n",
    "                         cat_features=cat_features)\n",
    "cbc.fit(X_train, Y_train,\n",
    "        eval_set=(X_valid, Y_valid),\n",
    "        use_best_model=True\n",
    "       )"
   ]
  },
  {
   "cell_type": "markdown",
   "id": "b3fc7499",
   "metadata": {},
   "source": [
    "**Specifying which features are categorical can affect model's perfomance significantly**"
   ]
  },
  {
   "cell_type": "markdown",
   "id": "fa867d2b",
   "metadata": {},
   "source": [
    "### Model Evaluation"
   ]
  },
  {
   "cell_type": "code",
   "execution_count": 20,
   "id": "dbb029fa",
   "metadata": {},
   "outputs": [
    {
     "data": {
      "text/plain": [
       "1    6185\n",
       "0     369\n",
       "Name: ACTION, dtype: int64"
      ]
     },
     "execution_count": 20,
     "metadata": {},
     "output_type": "execute_result"
    }
   ],
   "source": [
    "Y_valid.value_counts()"
   ]
  },
  {
   "cell_type": "code",
   "execution_count": 21,
   "id": "89cabfa8",
   "metadata": {},
   "outputs": [
    {
     "data": {
      "text/html": [
       "<div>\n",
       "<style scoped>\n",
       "    .dataframe tbody tr th:only-of-type {\n",
       "        vertical-align: middle;\n",
       "    }\n",
       "\n",
       "    .dataframe tbody tr th {\n",
       "        vertical-align: top;\n",
       "    }\n",
       "\n",
       "    .dataframe thead th {\n",
       "        text-align: right;\n",
       "    }\n",
       "</style>\n",
       "<table border=\"1\" class=\"dataframe\">\n",
       "  <thead>\n",
       "    <tr style=\"text-align: right;\">\n",
       "      <th></th>\n",
       "      <th>Predicted 0</th>\n",
       "      <th>Predicted 1</th>\n",
       "    </tr>\n",
       "  </thead>\n",
       "  <tbody>\n",
       "    <tr>\n",
       "      <th>Actual 0</th>\n",
       "      <td>67</td>\n",
       "      <td>302</td>\n",
       "    </tr>\n",
       "    <tr>\n",
       "      <th>Actual 1</th>\n",
       "      <td>29</td>\n",
       "      <td>6156</td>\n",
       "    </tr>\n",
       "  </tbody>\n",
       "</table>\n",
       "</div>"
      ],
      "text/plain": [
       "          Predicted 0  Predicted 1\n",
       "Actual 0           67          302\n",
       "Actual 1           29         6156"
      ]
     },
     "execution_count": 21,
     "metadata": {},
     "output_type": "execute_result"
    }
   ],
   "source": [
    "from sklearn.metrics import confusion_matrix\n",
    "\n",
    "pred_wo = cbc_wo_cat.predict(X_valid)\n",
    "cm_wo = confusion_matrix(Y_valid, pred_wo)\n",
    "df_cm_wo = pd.DataFrame(cm_wo, index=[\"Actual 0\", \"Actual 1\"], columns=[\"Predicted 0\", \"Predicted 1\"])\n",
    "\n",
    "df_cm_wo"
   ]
  },
  {
   "cell_type": "code",
   "execution_count": 22,
   "id": "3aee17f3",
   "metadata": {},
   "outputs": [
    {
     "data": {
      "text/html": [
       "<div>\n",
       "<style scoped>\n",
       "    .dataframe tbody tr th:only-of-type {\n",
       "        vertical-align: middle;\n",
       "    }\n",
       "\n",
       "    .dataframe tbody tr th {\n",
       "        vertical-align: top;\n",
       "    }\n",
       "\n",
       "    .dataframe thead th {\n",
       "        text-align: right;\n",
       "    }\n",
       "</style>\n",
       "<table border=\"1\" class=\"dataframe\">\n",
       "  <thead>\n",
       "    <tr style=\"text-align: right;\">\n",
       "      <th></th>\n",
       "      <th>Predicted 0</th>\n",
       "      <th>Predicted 1</th>\n",
       "    </tr>\n",
       "  </thead>\n",
       "  <tbody>\n",
       "    <tr>\n",
       "      <th>Actual 0</th>\n",
       "      <td>155</td>\n",
       "      <td>214</td>\n",
       "    </tr>\n",
       "    <tr>\n",
       "      <th>Actual 1</th>\n",
       "      <td>62</td>\n",
       "      <td>6123</td>\n",
       "    </tr>\n",
       "  </tbody>\n",
       "</table>\n",
       "</div>"
      ],
      "text/plain": [
       "          Predicted 0  Predicted 1\n",
       "Actual 0          155          214\n",
       "Actual 1           62         6123"
      ]
     },
     "execution_count": 22,
     "metadata": {},
     "output_type": "execute_result"
    }
   ],
   "source": [
    "pred = cbc.predict(X_valid)\n",
    "cm = confusion_matrix(Y_valid, pred)\n",
    "df_cm = pd.DataFrame(cm, index=[\"Actual 0\", \"Actual 1\"], columns=[\"Predicted 0\", \"Predicted 1\"])\n",
    "\n",
    "df_cm"
   ]
  },
  {
   "cell_type": "code",
   "execution_count": 23,
   "id": "c2edb8a9",
   "metadata": {},
   "outputs": [
    {
     "name": "stdout",
     "output_type": "stream",
     "text": [
      "Specificity of cbc model: 0.7142857142857143\n",
      "Recall of cbc model: 0.9662300773236547\n",
      "Precision of cbc model: 0.9899757477768796\n"
     ]
    }
   ],
   "source": [
    "spec = df_cm.iloc[0, 0] / np.sum(df_cm, axis=0)[0]\n",
    "recall = df_cm.iloc[1, 1] / np.sum(df_cm, axis=0)[1]\n",
    "prec = df_cm.iloc[1, 1] / np.sum(df_cm, axis=1)[1]\n",
    "\n",
    "metrics = [(\"Specificity\", spec), (\"Recall\", recall), (\"Precision\", prec)]\n",
    "for name, metric in metrics:\n",
    "    print(f\"{name} of cbc model: {metric}\")"
   ]
  },
  {
   "cell_type": "markdown",
   "id": "832ee663",
   "metadata": {},
   "source": [
    "### Logistic Regression and PCA"
   ]
  },
  {
   "cell_type": "code",
   "execution_count": 24,
   "id": "48af1127",
   "metadata": {},
   "outputs": [],
   "source": [
    "from sklearn.decomposition import PCA\n",
    "\n",
    "# One Hot Encoding\n",
    "X_train = pd.get_dummies(X_train)\n",
    "\n",
    "# PCA\n",
    "pca = PCA()\n",
    "pca_data = pca.fit_transform(X_train)"
   ]
  },
  {
   "cell_type": "code",
   "execution_count": 25,
   "id": "45a05c36",
   "metadata": {},
   "outputs": [
    {
     "data": {
      "image/png": "[encoded data removed]",
      "text/plain": [
       "<Figure size 432x288 with 1 Axes>"
      ]
     },
     "metadata": {},
     "output_type": "display_data"
    }
   ],
   "source": [
    "per_var = np.round(pca.explained_variance_ratio_ * 100, decimals=1)\n",
    "labels = [f\"PC{i}\" for i in range(1, len(per_var)+1)]\n",
    "\n",
    "plt.bar(x=range(1, 10+1), height=per_var[:10], tick_label=labels[:10])\n",
    "plt.ylabel(\"Percentage of Explained Variance\")\n",
    "plt.xlabel(\"Principal Component\")\n",
    "plt.title(\"Scree Plot (First 10 PCs)\")\n",
    "plt.show()"
   ]
  },
  {
   "cell_type": "code",
   "execution_count": 26,
   "id": "2f23d87b",
   "metadata": {},
   "outputs": [
    {
     "name": "stdout",
     "output_type": "stream",
     "text": [
      "First Ten PCs account for 23.4% (from 69.0%) variation\n"
     ]
    }
   ],
   "source": [
    "print(f\"First Ten PCs account for {round(sum(per_var[:10]), 2)}% (from {round(sum(per_var), 2)}%) variation\")"
   ]
  },
  {
   "cell_type": "markdown",
   "id": "d0f5d251",
   "metadata": {},
   "source": [
    "**Even using all of PCs, they doesn't account 100% (or 69%) variation**. So, the prediction will be not accurate using PCA."
   ]
  }
 ],
 "metadata": {
  "kernelspec": {
   "display_name": "Python 3 (ipykernel)",
   "language": "python",
   "name": "python3"
  },
  "language_info": {
   "codemirror_mode": {
    "name": "ipython",
    "version": 3
   },
   "file_extension": ".py",
   "mimetype": "text/x-python",
   "name": "python",
   "nbconvert_exporter": "python",
   "pygments_lexer": "ipython3",
   "version": "3.9.12"
  }
 },
 "nbformat": 4,
 "nbformat_minor": 5
}
